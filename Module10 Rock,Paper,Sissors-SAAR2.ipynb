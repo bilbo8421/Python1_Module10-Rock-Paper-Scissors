{
 "cells": [
  {
   "cell_type": "markdown",
   "id": "36560509-e549-4d9c-9dfd-d1c98677d427",
   "metadata": {},
   "source": [
    "**CALCULATE A RATIO**  \n",
    "*hypothetically assign ROCK = 1,  PAPER = 2,  SCISSORS = 3*  \n",
    "*ratio = user_num_select/computer_num_select*    \n",
    "*determine if ratio is contained in either i_won tuple or i_lost tuple*   \n",
    "  \n",
    "**DEFINE USER WIN CONDITIONS**  \n",
    "if ROCK vs. SCISSORS then ROCK wins : *R/S = 1/3 OR .33*     \n",
    "if SCISSORS vs. PAPER then SCISSORS wins : *S/P = 3/2 OR 1.50*   \n",
    "if PAPER vs. ROCK then PAPER wins : *P/R = 2/1 OR 2.00*  \n",
    "\n",
    "**DEFINE USER LOSE CONDITIONS**  \n",
    "if SCISSORS vs. ROCK then SCISSORS loses : *S/R = 3/1 OR 3.00*   \n",
    "if PAPER vs. SCISSORS then PAPER loses : *P/S = 2/3 OR .67*  \n",
    "if ROCK vs. PAPER then ROCK loses : *R/P = 1/2 OR 0.50*  \n",
    "  \n",
    "**DEFINE DRAW CONDITIONS**  \n",
    "if PAPER vs. PAPER    \n",
    "if ROCK vs. ROCK    \n",
    "if SCISSORS vs. SCISSORS  "
   ]
  },
  {
   "cell_type": "code",
   "execution_count": 1,
   "id": "7dc3848b-27cc-4d51-b284-2696120c95bb",
   "metadata": {},
   "outputs": [],
   "source": [
    "def play_game(r1, r2, user_num, comp_num):\n",
    "\n",
    "    if  user_num > 3 or user_num < 1 :\n",
    "        print(\"Enter a NUMBER (1-3). Please try again\")\n",
    "        start_game()\n",
    "        # return\n",
    "    elif user_num == comp_num :\n",
    "        print(f\"*** IT'S A DRAW! :| > // Computer also played [{comp_num}]\")\n",
    "        keep_score(0,0,1)\n",
    "        play_again()\n",
    "    elif r1 in i_won: \n",
    "        print(f\"*** YOU WON! :) > {r2[user_num]} // Computer played [{comp_num}]\")\n",
    "        keep_score(1,0,0)\n",
    "        play_again()     \n",
    "    else : # r1 in i_lost:  \n",
    "        print(f\"*** YOU LOST! :( > {r2[comp_num]} // Computer played [{comp_num}]\")\n",
    "        keep_score(0,1,0)\n",
    "        play_again()\n",
    "        "
   ]
  },
  {
   "cell_type": "code",
   "execution_count": 2,
   "id": "a747ab88-99ca-4777-83fb-bf4ec0debc12",
   "metadata": {},
   "outputs": [],
   "source": [
    "import random as rand\n",
    "# generate random integer for computer play\n",
    "def comp_num():\n",
    "    x = rand.randint(1, 3)\n",
    "    return x"
   ]
  },
  {
   "cell_type": "code",
   "execution_count": 3,
   "id": "449308ca-26c9-41a5-9a52-4d869eb79e1b",
   "metadata": {},
   "outputs": [],
   "source": [
    "def start_game() :\n",
    "    \n",
    "    try:\n",
    "        my_play = int(input(\"Enter a NUMBER (1-3) > (1)ROCK (2)PAPER (3)SCISSORS:\")) # input user choice\n",
    "    except:\n",
    "        print(\"You must enter a NUMBER...1,2 or 3. Please try again\")\n",
    "        start_game()\n",
    "    else:\n",
    "        computer_play = comp_num() # input computer choice with random number 1-3\n",
    "    \n",
    "        result1 = round(my_play/computer_play,2) # user_num/comp_num ratio to compare with i_won & i_lost\n",
    "        result2 = [\" \",\"ROCK beats SCISSORS\", \"PAPER beats ROCK\", \"SCISSORS beats PAPER\"] # explanation\n",
    "        \n",
    "        play_game (result1, result2, my_play, computer_play)\n",
    "        "
   ]
  },
  {
   "cell_type": "code",
   "execution_count": 4,
   "id": "633f389f-87da-4049-9d0f-863b146f4b8d",
   "metadata": {},
   "outputs": [],
   "source": [
    " def play_again() : \n",
    "     \n",
    "    replay = input(\"Play again? (y or n)\")\n",
    "    if replay == 'y' or replay == 'Y':\n",
    "        start_game() # continue to play\n",
    "    else:\n",
    "        print(\"No problem. Thanks for playing!\") # end of game\n",
    "  "
   ]
  },
  {
   "cell_type": "code",
   "execution_count": 5,
   "id": "63710bb2-7bbe-45fd-b59e-6402320e53c5",
   "metadata": {},
   "outputs": [],
   "source": [
    "def keep_score(x,y,z) :\n",
    "    \n",
    "    global win, lose, draw\n",
    "    win = win + x\n",
    "    lose = lose + y\n",
    "    draw = draw + z\n"
   ]
  },
  {
   "cell_type": "code",
   "execution_count": 6,
   "id": "e56f03cf-dc24-411d-be51-f7f69152b919",
   "metadata": {},
   "outputs": [
    {
     "name": "stdin",
     "output_type": "stream",
     "text": [
      "Enter a NUMBER (1-3) > (1)ROCK (2)PAPER (3)SCISSORS: rock\n"
     ]
    },
    {
     "name": "stdout",
     "output_type": "stream",
     "text": [
      "You must enter a NUMBER...1,2 or 3. Please try again\n"
     ]
    },
    {
     "name": "stdin",
     "output_type": "stream",
     "text": [
      "Enter a NUMBER (1-3) > (1)ROCK (2)PAPER (3)SCISSORS: 4\n"
     ]
    },
    {
     "name": "stdout",
     "output_type": "stream",
     "text": [
      "Enter a NUMBER (1-3). Please try again\n"
     ]
    },
    {
     "name": "stdin",
     "output_type": "stream",
     "text": [
      "Enter a NUMBER (1-3) > (1)ROCK (2)PAPER (3)SCISSORS: 1\n"
     ]
    },
    {
     "name": "stdout",
     "output_type": "stream",
     "text": [
      "*** YOU WON! :) > ROCK beats SCISSORS // Computer played [3]\n"
     ]
    },
    {
     "name": "stdin",
     "output_type": "stream",
     "text": [
      "Play again? (y or n) y\n",
      "Enter a NUMBER (1-3) > (1)ROCK (2)PAPER (3)SCISSORS: 2\n"
     ]
    },
    {
     "name": "stdout",
     "output_type": "stream",
     "text": [
      "*** YOU LOST! :( > SCISSORS beats PAPER // Computer played [3]\n"
     ]
    },
    {
     "name": "stdin",
     "output_type": "stream",
     "text": [
      "Play again? (y or n) y\n",
      "Enter a NUMBER (1-3) > (1)ROCK (2)PAPER (3)SCISSORS: 3\n"
     ]
    },
    {
     "name": "stdout",
     "output_type": "stream",
     "text": [
      "*** IT'S A DRAW! :| > // Computer also played [3]\n"
     ]
    },
    {
     "name": "stdin",
     "output_type": "stream",
     "text": [
      "Play again? (y or n) y\n",
      "Enter a NUMBER (1-3) > (1)ROCK (2)PAPER (3)SCISSORS: 3\n"
     ]
    },
    {
     "name": "stdout",
     "output_type": "stream",
     "text": [
      "*** IT'S A DRAW! :| > // Computer also played [3]\n"
     ]
    },
    {
     "name": "stdin",
     "output_type": "stream",
     "text": [
      "Play again? (y or n) n\n"
     ]
    },
    {
     "name": "stdout",
     "output_type": "stream",
     "text": [
      "No problem. Thanks for playing!\n",
      "***\n",
      "WINS:1 LOSSES:1 DRAWS:2\n"
     ]
    }
   ],
   "source": [
    "# globals\n",
    "i_won = (0.33, 1.5, 2) # user/computer ratio = win conditions\n",
    "i_lost = (3, 0.67, 0.50) # user/computer ratio = lose conditions\n",
    "win = lose = draw = 0 # initialize\n",
    "\n",
    "# call function to start the game\n",
    "start_game()\n",
    "\n",
    "print(f\"***\\nWINS:{win} LOSSES:{lose} DRAWS:{draw}\")\n"
   ]
  },
  {
   "cell_type": "code",
   "execution_count": null,
   "id": "10ac0f28-6037-4b64-ad0f-f41742bf208d",
   "metadata": {},
   "outputs": [],
   "source": []
  }
 ],
 "metadata": {
  "kernelspec": {
   "display_name": "Python 3 (ipykernel)",
   "language": "python",
   "name": "python3"
  },
  "language_info": {
   "codemirror_mode": {
    "name": "ipython",
    "version": 3
   },
   "file_extension": ".py",
   "mimetype": "text/x-python",
   "name": "python",
   "nbconvert_exporter": "python",
   "pygments_lexer": "ipython3",
   "version": "3.11.7"
  }
 },
 "nbformat": 4,
 "nbformat_minor": 5
}
